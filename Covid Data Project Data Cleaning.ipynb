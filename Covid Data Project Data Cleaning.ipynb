{
 "cells": [
  {
   "cell_type": "code",
   "execution_count": 3,
   "id": "c88a5aa2-89a1-455e-86d6-eb6dff4f9fd6",
   "metadata": {},
   "outputs": [],
   "source": [
    "import pandas as pd\n",
    "from pandas import Series,DataFrame"
   ]
  },
  {
   "cell_type": "code",
   "execution_count": 4,
   "id": "36d12c3f-7bee-4147-a352-089d7d2ea231",
   "metadata": {},
   "outputs": [],
   "source": [
    "# access gdp file\n",
    "gdp_dataframe = pd.read_csv('GDP_world_data.csv',skiprows=4 ,on_bad_lines = 'warn')\n"
   ]
  },
  {
   "cell_type": "code",
   "execution_count": 5,
   "id": "77138d4b-2fdb-4070-861c-6664806fae63",
   "metadata": {},
   "outputs": [],
   "source": [
    "gdp_columns = ['Country Name', 'Indicator Name', '2019','2020','2021','2022']"
   ]
  },
  {
   "cell_type": "code",
   "execution_count": 6,
   "id": "949b6699-8908-41d5-82bd-4f8c57378f6d",
   "metadata": {},
   "outputs": [
    {
     "data": {
      "text/html": [
       "<div>\n",
       "<style scoped>\n",
       "    .dataframe tbody tr th:only-of-type {\n",
       "        vertical-align: middle;\n",
       "    }\n",
       "\n",
       "    .dataframe tbody tr th {\n",
       "        vertical-align: top;\n",
       "    }\n",
       "\n",
       "    .dataframe thead th {\n",
       "        text-align: right;\n",
       "    }\n",
       "</style>\n",
       "<table border=\"1\" class=\"dataframe\">\n",
       "  <thead>\n",
       "    <tr style=\"text-align: right;\">\n",
       "      <th></th>\n",
       "      <th>Country Name</th>\n",
       "      <th>Country Code</th>\n",
       "      <th>Indicator Name</th>\n",
       "      <th>Indicator Code</th>\n",
       "      <th>1960</th>\n",
       "      <th>1961</th>\n",
       "      <th>1962</th>\n",
       "      <th>1963</th>\n",
       "      <th>1964</th>\n",
       "      <th>1965</th>\n",
       "      <th>...</th>\n",
       "      <th>2015</th>\n",
       "      <th>2016</th>\n",
       "      <th>2017</th>\n",
       "      <th>2018</th>\n",
       "      <th>2019</th>\n",
       "      <th>2020</th>\n",
       "      <th>2021</th>\n",
       "      <th>2022</th>\n",
       "      <th>2023</th>\n",
       "      <th>Unnamed: 68</th>\n",
       "    </tr>\n",
       "  </thead>\n",
       "  <tbody>\n",
       "    <tr>\n",
       "      <th>251</th>\n",
       "      <td>United States</td>\n",
       "      <td>USA</td>\n",
       "      <td>GDP (current US$)</td>\n",
       "      <td>NY.GDP.MKTP.CD</td>\n",
       "      <td>5.433000e+11</td>\n",
       "      <td>5.633000e+11</td>\n",
       "      <td>6.051000e+11</td>\n",
       "      <td>6.386000e+11</td>\n",
       "      <td>6.858000e+11</td>\n",
       "      <td>7.437000e+11</td>\n",
       "      <td>...</td>\n",
       "      <td>1.820602e+13</td>\n",
       "      <td>1.869511e+13</td>\n",
       "      <td>1.947734e+13</td>\n",
       "      <td>2.053306e+13</td>\n",
       "      <td>2.138098e+13</td>\n",
       "      <td>2.106047e+13</td>\n",
       "      <td>2.331508e+13</td>\n",
       "      <td>2.543970e+13</td>\n",
       "      <td>NaN</td>\n",
       "      <td>NaN</td>\n",
       "    </tr>\n",
       "  </tbody>\n",
       "</table>\n",
       "<p>1 rows × 69 columns</p>\n",
       "</div>"
      ],
      "text/plain": [
       "      Country Name Country Code     Indicator Name  Indicator Code  \\\n",
       "251  United States          USA  GDP (current US$)  NY.GDP.MKTP.CD   \n",
       "\n",
       "             1960          1961          1962          1963          1964  \\\n",
       "251  5.433000e+11  5.633000e+11  6.051000e+11  6.386000e+11  6.858000e+11   \n",
       "\n",
       "             1965  ...          2015          2016          2017  \\\n",
       "251  7.437000e+11  ...  1.820602e+13  1.869511e+13  1.947734e+13   \n",
       "\n",
       "             2018          2019          2020          2021          2022  \\\n",
       "251  2.053306e+13  2.138098e+13  2.106047e+13  2.331508e+13  2.543970e+13   \n",
       "\n",
       "     2023  Unnamed: 68  \n",
       "251   NaN          NaN  \n",
       "\n",
       "[1 rows x 69 columns]"
      ]
     },
     "execution_count": 6,
     "metadata": {},
     "output_type": "execute_result"
    }
   ],
   "source": [
    "only_us_gdp_df = gdp_dataframe[gdp_dataframe['Country Name'] == 'United States']\n",
    "only_us_gdp_df"
   ]
  },
  {
   "cell_type": "code",
   "execution_count": 7,
   "id": "c568063c-0960-4df5-8ae5-42db808b12b9",
   "metadata": {},
   "outputs": [
    {
     "data": {
      "text/html": [
       "<div>\n",
       "<style scoped>\n",
       "    .dataframe tbody tr th:only-of-type {\n",
       "        vertical-align: middle;\n",
       "    }\n",
       "\n",
       "    .dataframe tbody tr th {\n",
       "        vertical-align: top;\n",
       "    }\n",
       "\n",
       "    .dataframe thead th {\n",
       "        text-align: right;\n",
       "    }\n",
       "</style>\n",
       "<table border=\"1\" class=\"dataframe\">\n",
       "  <thead>\n",
       "    <tr style=\"text-align: right;\">\n",
       "      <th></th>\n",
       "      <th>Country Name</th>\n",
       "      <th>Indicator Name</th>\n",
       "      <th>2019</th>\n",
       "      <th>2020</th>\n",
       "      <th>2021</th>\n",
       "      <th>2022</th>\n",
       "    </tr>\n",
       "  </thead>\n",
       "  <tbody>\n",
       "    <tr>\n",
       "      <th>251</th>\n",
       "      <td>United States</td>\n",
       "      <td>GDP (current US$)</td>\n",
       "      <td>2.138098e+13</td>\n",
       "      <td>2.106047e+13</td>\n",
       "      <td>2.331508e+13</td>\n",
       "      <td>2.543970e+13</td>\n",
       "    </tr>\n",
       "  </tbody>\n",
       "</table>\n",
       "</div>"
      ],
      "text/plain": [
       "      Country Name     Indicator Name          2019          2020  \\\n",
       "251  United States  GDP (current US$)  2.138098e+13  2.106047e+13   \n",
       "\n",
       "             2021          2022  \n",
       "251  2.331508e+13  2.543970e+13  "
      ]
     },
     "execution_count": 7,
     "metadata": {},
     "output_type": "execute_result"
    }
   ],
   "source": [
    "gdp_filtered_for_US = only_us_gdp_df[gdp_columns]\n",
    "gdp_filtered_for_US"
   ]
  },
  {
   "cell_type": "code",
   "execution_count": 8,
   "id": "1aeedf8a-4091-45b0-bb79-4d77a5841e0a",
   "metadata": {},
   "outputs": [],
   "source": [
    "gdp_filtered_for_US.to_csv('United_States_covid_gdp.csv', index=False)"
   ]
  }
 ],
 "metadata": {
  "kernelspec": {
   "display_name": "Python 3 (ipykernel)",
   "language": "python",
   "name": "python3"
  },
  "language_info": {
   "codemirror_mode": {
    "name": "ipython",
    "version": 3
   },
   "file_extension": ".py",
   "mimetype": "text/x-python",
   "name": "python",
   "nbconvert_exporter": "python",
   "pygments_lexer": "ipython3",
   "version": "3.12.3"
  }
 },
 "nbformat": 4,
 "nbformat_minor": 5
}
