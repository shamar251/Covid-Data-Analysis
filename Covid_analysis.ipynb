{
 "cells": [
  {
   "cell_type": "code",
   "execution_count": 1,
   "id": "0bffc4a0-b1db-4e83-9a73-8e447363f6e8",
   "metadata": {},
   "outputs": [],
   "source": [
    "import pandas as pd"
   ]
  },
  {
   "cell_type": "code",
   "execution_count": 3,
   "id": "51ec8544-bfde-4ca7-93ee-495cd29e2eeb",
   "metadata": {},
   "outputs": [],
   "source": [
    "#read csv\n",
    "df = pd.read_csv('total_cases.csv')"
   ]
  },
  {
   "cell_type": "code",
   "execution_count": 5,
   "id": "30938e88-b593-40a8-be6c-d675e692e3af",
   "metadata": {},
   "outputs": [],
   "source": [
    "#specify Columns to keep\n",
    "columns_to_keep = ['date','World','United States']"
   ]
  },
  {
   "cell_type": "code",
   "execution_count": 7,
   "id": "8b08df0b-166f-41aa-9bbc-6321580592be",
   "metadata": {},
   "outputs": [],
   "source": [
    "#filter data frame\n",
    "df_filtered = df[columns_to_keep]"
   ]
  },
  {
   "cell_type": "code",
   "execution_count": 9,
   "id": "6e0c3c28-2d89-46a6-9aa2-503cfe2687ef",
   "metadata": {},
   "outputs": [],
   "source": [
    "df_filtered.to_csv('United_States_total_cases.csv', index=False)"
   ]
  },
  {
   "cell_type": "code",
   "execution_count": null,
   "id": "4a9011b6-fb15-4831-9b17-beaeed960e8f",
   "metadata": {},
   "outputs": [],
   "source": []
  }
 ],
 "metadata": {
  "kernelspec": {
   "display_name": "Python 3 (ipykernel)",
   "language": "python",
   "name": "python3"
  },
  "language_info": {
   "codemirror_mode": {
    "name": "ipython",
    "version": 3
   },
   "file_extension": ".py",
   "mimetype": "text/x-python",
   "name": "python",
   "nbconvert_exporter": "python",
   "pygments_lexer": "ipython3",
   "version": "3.12.3"
  }
 },
 "nbformat": 4,
 "nbformat_minor": 5
}
